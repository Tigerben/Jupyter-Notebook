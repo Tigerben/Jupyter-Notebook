{
 "cells": [
  {
   "cell_type": "markdown",
   "metadata": {},
   "source": [
    "# Bruk av Euler-Cromer-metoden og bli kjent med SciPy-biblioteket"
   ]
  },
  {
   "cell_type": "markdown",
   "metadata": {},
   "source": [
    "### TFY4163 Fluidmekanikk og bølgefysikk – Programmeringsøving 2"
   ]
  },
  {
   "cell_type": "markdown",
   "metadata": {},
   "source": [
    "**Forkunnskaper:** Introduksjon til SciPy-notebooken og Euler-metoden. "
   ]
  },
  {
   "cell_type": "markdown",
   "metadata": {},
   "source": [
    "**Læringsmål:** Løse andreordens ODE ved Euler-Cromer-metoden. Bli kjent med SciPy-biblioteket, og benytte en funksjon fra integrate pakken for å løse ODE. "
   ]
  },
  {
   "cell_type": "markdown",
   "metadata": {},
   "source": [
    "------------------------"
   ]
  },
  {
   "cell_type": "markdown",
   "metadata": {},
   "source": [
    "I programmeringsøving 1 ble Euler-metoden brukt til å finne en løsning av bevegelsesligningen for en enkel harmonisk pendel. Vi observerte da at vinkelutslaget, og derfor energien, økte raskt med tiden. Vi må derfor forbedre vår numeriske metode for å få en fysisk løsning.\n",
    "\n",
    "Til dette skal vi benytte Euler-Cromer metoden (ofte også kalt semi-implisitt Euler-metode). Metoden er basert på en enkel modifikasjon av Euler metoden. Vi bruker de *gamle* verdiene, $\\theta_i$ for å beregne vinkelhastigheten $\\omega_{i+1}$, men den *oppdaterte* verdien, $\\omega_{i+1}$, for å beregne vinkelen, $\\theta_{i+1}$.\n",
    "\n",
    "Bevegelsesligningen (som ble utledet i programmeringsøving 1) er\n",
    "\n",
    "\n",
    "$$\\frac{d^2 \\theta}{d t^2} = - \\frac{g}{l} \\sin \\theta,$$ \n",
    "\n",
    "hvor $\\theta$ er vinkelutslaget til snora med hensyn til vertikalen, $g$ er tyngdeakselerasjonen og $l$ er lengden av snora."
   ]
  },
  {
   "cell_type": "markdown",
   "metadata": {},
   "source": [
    "## Oppgave 1 – Løsning av bevegelsesligningen ved Euler-Cromer metoden "
   ]
  },
  {
   "cell_type": "markdown",
   "metadata": {},
   "source": [
    "Parametrene og initialbetingelsene til pendelen\n",
    "\n",
    "- Lengden av snora, $l = 1.0$ m\n",
    "- Masse, $m = 5$ kg\n",
    "- Tyngdeakselerasjonen, $g = 9.8 \\: \\text{m}/\\text{s}^2$ \n",
    "- Startvinkel til snora med hensyn til vertikalen, $\\theta_0 = 0.2$ rad\n",
    "- Vinkelhastighetens startverdi, $\\omega_0 = 0.0$ rad/s"
   ]
  },
  {
   "cell_type": "markdown",
   "metadata": {},
   "source": [
    "**a)** Lag en funksjon hvor du beregner vinkelutslaget, $\\theta$, og vinkelhastigheten, $\\omega$, ved å bruke Euler-Cromer metoden. Anta også her at $\\sin \\theta \\approx \\theta$ (lite vinkelutslag)."
   ]
  },
  {
   "cell_type": "code",
   "execution_count": null,
   "metadata": {},
   "outputs": [],
   "source": [
    "# Husk å definere nødvendige biblioteker\n",
    "\n",
    "# Definer konstanter og initialbetingelser\n",
    "\n",
    "# For å plotte i notebooken\n",
    "%matplotlib inline\n",
    "\n",
    "def euler_cromer_approx(theta_0, w_0, dt, T):\n",
    "    \n",
    "    \"\"\"\n",
    "    Calculates angular displacement and angular velocity using the Euler-Cromer method\n",
    "    \n",
    "    PARAMETERS:\n",
    "    -----------\n",
    "    theta_0: initial angular displacement \n",
    "    w_0: initial angular velocity\n",
    "    dt: timestep\n",
    "    T: max t\n",
    "    \n",
    "    \n",
    "    RETURNS:\n",
    "    --------\n",
    "    theta: array with values of angular displacement\n",
    "    w: array with values of angular velocity\n",
    "    t: array with time-values\n",
    "    \"\"\"\n",
    "    \n",
    "    # SKRIV KODE HER\n",
    "\n",
    "    return theta, w, t"
   ]
  },
  {
   "cell_type": "markdown",
   "metadata": {},
   "source": [
    "**b)** Vi skal nå undersøke hvor stabil Euler-Cromer metoden er for vårt system.\n",
    "\n",
    "1. Plot vinkelutslaget, $\\theta$, som funksjon av tid, $t$, opp til $t = 10$ s. Bruk tidssteg $\\Delta t = 0.007$ s. Observer at amplituden til vinkelutslaget *ikke* endrer seg med tid slik den gjorde med Euler-metoden i programmeringsøvingøving 1 (oppgave 2c). Euler-Cromer metoden er derfor en forbedring over Euler metoden da vi har konstant total energi.\n",
    "\n",
    "2. Benytt funksjonen `energy_calculation` fra programmeringsøving 1 (oppgave 2b), og bytt ut  `euler_method` med `euler_cromer_approx`. Plot den totale energien til pendelen som funksjon av tid, for tidssteg $\\Delta t = 0.001$ s, $\\Delta t = 0.004$ s og $\\Delta t = 0.007$ s. Husk å inkludere `label` for plottene, og `legend` for figuren. Du vil nå observere at den totale energien varierer periodisk, men er konservert for en *periode*,\n",
    "$2 \\pi \\sqrt{l/g}$. Videre vil du observere at hvor mye energien varierer over en periode minker med tidssteget. \n",
    "\n",
    "5. Beregn energidifferansen mellom slutten og starten av en periode for $\\Delta t = 0.001$ s. *Hint:* Plot for tid opp til $t = 2 \\pi \\sqrt{l/g}$, slik at det siste elementet i arrayen er ved fullført periode. Du kan aksessere siste element i en array, `a`, med `a[-1]`."
   ]
  },
  {
   "cell_type": "code",
   "execution_count": null,
   "metadata": {},
   "outputs": [],
   "source": [
    "# SKRIV KODE HER"
   ]
  },
  {
   "cell_type": "markdown",
   "metadata": {},
   "source": [
    "**c)** Vi går nå bort fra tilnærmelsen $\\sin \\theta = \\theta$, slik at bevegelsesligningen for pendelen er gitt ved\n",
    "\n",
    "\\begin{equation}\n",
    " \t\\frac{d^2 \\theta}{d t^2} = - \\frac{g}{l} \\sin \\theta.\n",
    "\t\\label{bevegelse}\n",
    "\\end{equation}\n",
    "\n",
    "Denne differensialligningen, som er ikke-lineær, kan ikke løses analytisk, og vi *må* derfor benytte numeriske metoder. Det er viktig å merke seg at svært mangle ligninger man kommer fram til i fysikken ikke har analytiske løsninger, og det er derfor nyttig å kunne numeriske metoder for å tilnærme løsningene. \n",
    "\n",
    "1. Skriv en funksjon som beregner vinkelutslaget, $\\theta$, og vinkelhastigheten, $\\omega$, som funksjon av tid ved bruk av Euler-Cromer metoden. *Hint:* Kun en liten endring av koden er nødvendig.\n",
    "\n",
    "\n",
    "2. Plot vinkelutslaget funnet med liten vinkel tilnærmelsen sammen med vinkelutslaget som beregner fra funksjonen over, for initialvinkel $\\theta_0 = 15^\\circ$ og $\\theta_0 = 40^\\circ$. Benytt tidssteg $\\Delta t = 0.001$ s. Prøv deg gjerne fram med forskjellige vinkler, og observer for hvilke startvinkler det ser ut som at liten vinkel tilnærmelsen er rimelig å benytte. *Tips:* Bruk funksjonen `np.radians` for å konvertere fra grader til radianer.\n",
    " \n",
    " "
   ]
  },
  {
   "cell_type": "code",
   "execution_count": null,
   "metadata": {},
   "outputs": [],
   "source": [
    "# SKRIV KODE HER"
   ]
  },
  {
   "cell_type": "markdown",
   "metadata": {},
   "source": [
    "##  Oppgave 2 – Bruk av SciPy biblioteket"
   ]
  },
  {
   "cell_type": "markdown",
   "metadata": {},
   "source": [
    "Vi skal nå bruke funksjonen `scipy.integrate.solve_ivp` fra SciPy-biblioteket for å finne løsning til bevegelsesligningen for pendelen (som er en andreordens ordinær differensialligning). Når man skal bruke en ny funksjon for første gang så må man lese gjennom funksjons-dokumentasjonen, sånn at man skjønner hvordan funksjonen brukes. Les derfor gjennom notebooken \"Introduksjon til SciPy\" som ligger på BlackBoard under \"Numeriske øvinger\". **Det er viktig at du har lest nøye gjennom denne, og forstår eksempelet gitt der.**\n",
    "\n",
    "`scipy.integrate.solve_ivp` bruker Runge-Kutta 5(4)-metoden (ofte forkortet RK45) som standard, noe vi også skal bruke i denne oppgaven. Denne metoden er en såkalt *adaptiv metode* med varierende tidssteg. Kort fortalt bruker metoden to ulike ODE-løsere (4. og 5. ordens Runge-Kutta [se programmeringsøving 3]) til å beregne usikkerheten til hvert steg. Steglengden justeres slik at ønsket usikkerhet blir oppnådd. Dermed bruker man korte steglengder kun når det er nødvendig. Dere lærer mer om dette i faget TMA4320 Introduksjon til vitenskapelige beregninger. De som er interesserte kan ta en titt på notebooken [Adaptive Runge-Kutta Method](https://nbviewer.jupyter.org/urls/www.numfys.net/media/notebooks/adaptive_runge_kutta_methods.ipynb) for å lære mer om prinsippet.\n",
    "\n",
    "I eksemplene fra dokumentasjonen er det vist hvordan man finner løsning for en førsteordens ordinær differensialligning (ODE). Bevegelsesligningen for den enkle harmoniske pendelbevegelsen er en *andreordens ODE*. Vi må derfor løse ett ligningssystem av *to* ODE-er. \n",
    "\n",
    "**a)** Lag en funksjon som tar inn en float `t`, og et array `vals`, og returnerer et array av de to verdiene til høyresiden av de to ODE-ene for den harmonsike pendelen (uten å anta lite vinkelutslag). Det er gitt funksjonsdeklarasjon, input parametre og hva som skal returneres i funksjonen under. *Hint:* Skriv først bevegelsesligningen for pendelen som to førsteordens ODE-er (slik som ble gjort i programmeringsøving 1). \n"
   ]
  },
  {
   "cell_type": "code",
   "execution_count": null,
   "metadata": {},
   "outputs": [],
   "source": [
    "def equation(t, vals):\n",
    "    \"\"\"\n",
    "    Calculates the value of RHS of the differentail equations given an array (vals) which \n",
    "    contains the values of the parameters\n",
    "\n",
    "    Parameters\n",
    "    -----------\n",
    "    t: float. time\n",
    "    vals: array. values of theta and omega, [theta, omega] \n",
    "    \n",
    "    Returns\n",
    "    -------\n",
    "    array with values of the RHS of the equations.\n",
    "    \"\"\"\n",
    "    \n",
    "    # SKRIV KODE HER\n",
    "    \n",
    "    return [dtheta, dw]\n",
    "\n",
    "\"\"\"\n",
    "Note:\n",
    "scipy.integrate.solve_ivp requires that fun returns\n",
    "an object which is of type array_like. \n",
    "An ordinary list is of this type (as well as e.g. integers, floats and numpy arrays)\n",
    "so we can return a list, and do not have to first convert into an np.array. \n",
    "\"\"\""
   ]
  },
  {
   "cell_type": "markdown",
   "metadata": {},
   "source": [
    "**b)** Lag en funksjon som benytter `scipy.integrate.solve_ivp` for å beregne vinkelutslaget, $\\theta$ og vinkelhastigheten, $\\omega$. Funksjonen skal også returnere en array med tidsverdier. Plot vinkelutslaget som funksjon av tid, opp til $t = 10$ s. Sett $\\theta_0 = 0.2$ rad, og $\\omega_0 = 0.0$ rad/s. Bruk tidssteg $\\Delta t = 0.01$."
   ]
  },
  {
   "cell_type": "code",
   "execution_count": null,
   "metadata": {},
   "outputs": [],
   "source": [
    "def RK45_method(RHS, theta_0, w_0, t_1, dt):\n",
    "    \"\"\"\n",
    "    Calculates theta and omega using the scipy.integrate.solve_ivp function (RK54)\n",
    "    \n",
    "    RHS: right hand side of differential equations\n",
    "    t_1: time-value to calculate up to (e.g. 10 seconds)\n",
    "    dt: timestep\n",
    "    \n",
    "    Returns\n",
    "    -------\n",
    "    theta: array of theta values\n",
    "    w: array of omega values\n",
    "    t: timevalues\n",
    "    \"\"\"\n",
    "    \n",
    "    # SKRIV KODE HER\n",
    "    \n",
    "    return theta, w, t\n",
    "\n",
    "# PLOT VINKELUTSLAGET"
   ]
  }
 ],
 "metadata": {
  "@webio": {
   "lastCommId": null,
   "lastKernelId": null
  },
  "kernelspec": {
   "display_name": "Python 3",
   "language": "python",
   "name": "python3"
  },
  "language_info": {
   "codemirror_mode": {
    "name": "ipython",
    "version": 3
   },
   "file_extension": ".py",
   "mimetype": "text/x-python",
   "name": "python",
   "nbconvert_exporter": "python",
   "pygments_lexer": "ipython3",
   "version": "3.7.7"
  }
 },
 "nbformat": 4,
 "nbformat_minor": 2
}
