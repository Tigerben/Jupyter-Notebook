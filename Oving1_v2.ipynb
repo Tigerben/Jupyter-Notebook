{
 "cells": [
  {
   "cell_type": "markdown",
   "id": "9d09d446",
   "metadata": {},
   "source": [
    "# TMA4320 Introduksjon til vitenskapelige beregninger\n",
    "## Øving 1\n",
    "\n",
    "**Veiledning**: Onsdag 16:15-18:00 i R50, Realfagsbygget og torsdag 14:15-16:00 i rom 256 SB1.  \n",
    "**Innlevering**: Mandag 23.01 kl. 23:59, i [ovsys](https://ovsys.math.ntnu.no).\n",
    "\n",
    "Oppgaven skal innleveres som et Jupyternotat. Men gjør gjerne implementering og koding i Spyder eller et annet IDE, og kopier den ferdige koden inn i Jupyternotatet for innlevering.\n",
    "\n",
    "**NB!** Før innlevering: \n",
    "* Kjør en runde på hele notatet for å se at alt virker: <tt>Kernel -> Restart & Run All</tt>\n",
    "* Deretter: <tt>Kernel -> Restart & Clear Output</tt>. Fila er nå klar for innlevering. "
   ]
  },
  {
   "cell_type": "markdown",
   "id": "665ada6a",
   "metadata": {},
   "source": [
    "### Oppgave 1 (Feilsøking og retting. Dokumentasjon).\n",
    "\n",
    "I denne oppgaven skal du beregne tilnærmelser til integraler ved hjelp av [Simpsons metode](https://wiki.math.ntnu.no/tma4100/tema/numerics?&#numerisk_integrasjon)\n",
    "\n",
    "\\begin{equation}\n",
    "\\int_a^b f(x)\\mathrm{d}x \\simeq S_{n} = \\frac{h}{3}\\left( f(x_0)+4\\sum_{i=1}^{n/2}f(x_{2i-1}) + 2\\sum_{i=1}^{n/2-1} f(x_{2i}) + f(x_{n}) \\right)\n",
    "\\end{equation}\n",
    "der $h=(b-a)/n$, der $n$ må være et like tall, og $x_i=a+ih$.\n",
    "\n",
    "Under er det et forslag til en kode, skrevet etter prinsippet raskt og gæli. Oppgaven går ut på: \n",
    "\n",
    "* Debug koden, både for syntaksfeil og logiske feil. Kan den forbedres på andre måter?\n",
    "* Skriv den om til en funksjon. Test funksjonen på et passende utvalg med testproblemer. \n",
    "* Dokumenter koden. \n",
    "\n",
    "Forslag til testproblemer med kjent løsning.\n",
    "\n",
    "1. $\\int_1^2 x^2\\mathrm{d}x = 7/3$. I dette tilfellet skal Simpsons formel levere et eksakt resultat. (Hvorfor?)\n",
    "2. $\\int_0^{\\pi/2} \\sin{x} \\mathrm{d}x = 1$. \n",
    "\n",
    "Finn gjerne på noen egne testproblemer også. \n",
    "\n",
    "**Hint**\n",
    "* Er det problemer med logiske feil, sett $n=2$, utfør regningene på papir, og sammenlign med hva som skjer i koden. \n",
    "* Flytt koden over til Spyder eller en annen IDE, og debug koden der. "
   ]
  },
  {
   "cell_type": "code",
   "execution_count": null,
   "id": "9648e196",
   "metadata": {},
   "outputs": [],
   "source": [
    "# Eksempel 1\n",
    "from math import sin, pi\n",
    "def f(x):\n",
    "    return x**2\n",
    "a, b = 1, 2\n",
    "eksakt = 7/3"
   ]
  },
  {
   "cell_type": "code",
   "execution_count": null,
   "id": "c801be75",
   "metadata": {},
   "outputs": [],
   "source": [
    "# Eksempel 2\n",
    "def f(x):\n",
    "    return sin(x)\n",
    "a, b = 0, pi/2\n",
    "eksakt = 1.0"
   ]
  },
  {
   "cell_type": "code",
   "execution_count": null,
   "id": "18ab86d0",
   "metadata": {},
   "outputs": [],
   "source": [
    "# Simpsons metode starter her\n",
    "n = 5\n",
    "h = (b-a)/n\n",
    "for i in range(1,int(n/2)):\n",
    "    x = a+(2*i-1)*h\n",
    "    S = S + 4*f(x)\n",
    "for i in range(1, int(n/2)-1):\n",
    "      x = a+2*i*h\n",
    "    S = S + 2*f(x)\n",
    "S = S + f(b)\n",
    "S = h*S/3\n",
    "\n",
    "feil = abs(S-eksakt)\n",
    "print f'S = {S:.4f}, feil = {feil:.3e}'\n",
    "    "
   ]
  },
  {
   "cell_type": "markdown",
   "id": "ba2efd27",
   "metadata": {},
   "source": [
    "### Oppgave 2 (Numpy)\n",
    "\n",
    "Implementer Simpsons metode igjen, men denne gangen ved bruk av numpy. For eksempel ved: \n",
    "* Lag et array av gridpunktene $\\{x_i\\}_{i=0}^n$ ved bruk av <tt>np.linspace</tt>\n",
    "* For de to summene i uttrykket for Simpson's metode: Plukk ut de riktige gridpunktene $x_i$, finn funksjonsverdien av disse, og bruk <tt>np.sum</tt>. \n",
    "* Legg til funksjonsverdiene i de to endepunktene, multipliser med $h/3$.  "
   ]
  },
  {
   "cell_type": "markdown",
   "id": "afe94d29",
   "metadata": {},
   "source": [
    "### Oppgave 3 (Bruk av biblioteksrutiner)\n",
    "Gitt funksjonen\n",
    "\\begin{equation}\n",
    "f(x) = \\frac{1}{(x-5)^2+0.2} + \\frac{1}{(x-2)^2+0.05} + 2.\n",
    "\\end{equation}\n",
    "\n",
    "* Plot funksjonen over intervallet $[-2,8]$.\n",
    "* Finn en tilnærmelse til integralet $\\int_{-2}^8f(x)\\mathrm{d}x$ ved bruk av <tt>scipy.integrate.quad</tt>.  \n",
    "  \n",
    "  **Hint!** Les dokumentasjonen. Bla fram til eksemplene."
   ]
  },
  {
   "cell_type": "code",
   "execution_count": null,
   "id": "5649358a",
   "metadata": {},
   "outputs": [],
   "source": []
  }
 ],
 "metadata": {
  "kernelspec": {
   "display_name": "Python 3 (ipykernel)",
   "language": "python",
   "name": "python3"
  },
  "language_info": {
   "codemirror_mode": {
    "name": "ipython",
    "version": 3
   },
   "file_extension": ".py",
   "mimetype": "text/x-python",
   "name": "python",
   "nbconvert_exporter": "python",
   "pygments_lexer": "ipython3",
   "version": "3.9.13"
  }
 },
 "nbformat": 4,
 "nbformat_minor": 5
}
